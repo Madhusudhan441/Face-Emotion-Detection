{
 "cells": [
  {
   "cell_type": "code",
   "execution_count": 67,
   "metadata": {},
   "outputs": [],
   "source": [
    "import pandas as pd\n",
    "import numpy as np\n",
    "import matplotlib.pyplot as plt\n",
    "from keras.layers import Input, Dense, Activation, ZeroPadding2D, BatchNormalization, Flatten, Conv2D\n",
    "from keras.layers import AveragePooling2D, MaxPooling2D, Dropout, GlobalMaxPooling2D, GlobalAveragePooling2D\n",
    "from keras import backend as K\n",
    "from keras.models import Model\n",
    "from keras.preprocessing import image\n",
    "\n",
    "from keras.applications.imagenet_utils import preprocess_input\n",
    "from IPython.display import SVG\n",
    "#from kt_utils import *"
   ]
  },
  {
   "cell_type": "code",
   "execution_count": 4,
   "metadata": {},
   "outputs": [
    {
     "data": {
      "text/html": [
       "<div>\n",
       "<style scoped>\n",
       "    .dataframe tbody tr th:only-of-type {\n",
       "        vertical-align: middle;\n",
       "    }\n",
       "\n",
       "    .dataframe tbody tr th {\n",
       "        vertical-align: top;\n",
       "    }\n",
       "\n",
       "    .dataframe thead th {\n",
       "        text-align: right;\n",
       "    }\n",
       "</style>\n",
       "<table border=\"1\" class=\"dataframe\">\n",
       "  <thead>\n",
       "    <tr style=\"text-align: right;\">\n",
       "      <th></th>\n",
       "      <th>Emotion</th>\n",
       "      <th>Pixels</th>\n",
       "    </tr>\n",
       "  </thead>\n",
       "  <tbody>\n",
       "    <tr>\n",
       "      <th>0</th>\n",
       "      <td>3</td>\n",
       "      <td>221 240 251 254 255 255 255 255 255 255 255 25...</td>\n",
       "    </tr>\n",
       "    <tr>\n",
       "      <th>1</th>\n",
       "      <td>6</td>\n",
       "      <td>100 107 108 104 103 113 117 115 120 130 138 14...</td>\n",
       "    </tr>\n",
       "    <tr>\n",
       "      <th>2</th>\n",
       "      <td>4</td>\n",
       "      <td>35 50 56 57 63 76 74 79 85 86 105 133 145 152 ...</td>\n",
       "    </tr>\n",
       "    <tr>\n",
       "      <th>3</th>\n",
       "      <td>6</td>\n",
       "      <td>119 124 129 135 136 140 142 149 159 156 163 16...</td>\n",
       "    </tr>\n",
       "    <tr>\n",
       "      <th>4</th>\n",
       "      <td>2</td>\n",
       "      <td>160 173 186 194 188 185 175 162 153 143 135 12...</td>\n",
       "    </tr>\n",
       "  </tbody>\n",
       "</table>\n",
       "</div>"
      ],
      "text/plain": [
       "   Emotion                                             Pixels\n",
       "0        3  221 240 251 254 255 255 255 255 255 255 255 25...\n",
       "1        6  100 107 108 104 103 113 117 115 120 130 138 14...\n",
       "2        4  35 50 56 57 63 76 74 79 85 86 105 133 145 152 ...\n",
       "3        6  119 124 129 135 136 140 142 149 159 156 163 16...\n",
       "4        2  160 173 186 194 188 185 175 162 153 143 135 12..."
      ]
     },
     "execution_count": 4,
     "metadata": {},
     "output_type": "execute_result"
    }
   ],
   "source": [
    "data_ip = pd.read_csv(\"C:\\\\Users\\\\admin\\\\Documents\\\\Face_expressions\\\\train.csv\")\n",
    "data_ip.head()"
   ]
  },
  {
   "cell_type": "code",
   "execution_count": 5,
   "metadata": {},
   "outputs": [],
   "source": [
    "X = data_ip['Pixels']\n",
    "Y = data_ip['Emotion']\n",
    "X = X.str.split(' ')"
   ]
  },
  {
   "cell_type": "code",
   "execution_count": 6,
   "metadata": {},
   "outputs": [
    {
     "data": {
      "text/plain": [
       "(4178, 2304)"
      ]
     },
     "execution_count": 6,
     "metadata": {},
     "output_type": "execute_result"
    }
   ],
   "source": [
    "X = np.array(X)\n",
    "X = [list(map(int, i)) for i in X]\n",
    "X = [np.array(i) for i in X]\n",
    "X = np.array(X)\n",
    "X.shape"
   ]
  },
  {
   "cell_type": "code",
   "execution_count": 7,
   "metadata": {},
   "outputs": [],
   "source": [
    "X = X.reshape(X.shape[0],48,48)"
   ]
  },
  {
   "cell_type": "code",
   "execution_count": 9,
   "metadata": {},
   "outputs": [],
   "source": [
    "X_train = X[:-500,:,:]\n",
    "X_test = X[-500:,:,:]\n",
    "\n",
    "X_train.shape,X_test.shape\n",
    "X_train = X_train/255."
   ]
  },
  {
   "cell_type": "code",
   "execution_count": 10,
   "metadata": {},
   "outputs": [
    {
     "data": {
      "text/plain": [
       "<matplotlib.image.AxesImage at 0x1da14f58ef0>"
      ]
     },
     "execution_count": 10,
     "metadata": {},
     "output_type": "execute_result"
    },
    {
     "data": {
      "image/png": "[encoded data removed]",
      "text/plain": [
       "<Figure size 432x288 with 1 Axes>"
      ]
     },
     "metadata": {
      "needs_background": "light"
     },
     "output_type": "display_data"
    }
   ],
   "source": [
    "plt.imshow(X_train[1],cmap='gray')"
   ]
  },
  {
   "cell_type": "code",
   "execution_count": 11,
   "metadata": {},
   "outputs": [
    {
     "data": {
      "text/plain": [
       "array([[0, 0, 1, ..., 0, 0, 0],\n",
       "       [0, 0, 0, ..., 0, 1, 0],\n",
       "       [0, 0, 0, ..., 0, 0, 0],\n",
       "       ...,\n",
       "       [0, 0, 0, ..., 1, 0, 0],\n",
       "       [0, 0, 1, ..., 0, 0, 0],\n",
       "       [0, 0, 0, ..., 0, 1, 0]])"
      ]
     },
     "execution_count": 11,
     "metadata": {},
     "output_type": "execute_result"
    }
   ],
   "source": [
    "P = []\n",
    "Y = data_ip['Emotion']\n",
    "for i in range(0,len(Y)):\n",
    "    Y_op = [0]*7\n",
    "    #print(Y[i])\n",
    "    Y_op[Y[i]-1] = 1\n",
    "    P.append(Y_op)\n",
    "P = np.array(P)\n",
    "Y_train = P[:-500]\n",
    "Y_test = P[-500:]\n",
    "'''Y = np.array(data_ip['Emotion'])\n",
    "Y_train = Y[:-500]\n",
    "Y_test = Y[-500:]'''\n",
    "Y_train"
   ]
  },
  {
   "cell_type": "code",
   "execution_count": 12,
   "metadata": {},
   "outputs": [],
   "source": [
    "X_train = X_train.reshape(X_train.shape[0],48,48,1)"
   ]
  },
  {
   "cell_type": "code",
   "execution_count": 17,
   "metadata": {},
   "outputs": [],
   "source": [
    "def EmotionModel(input_shape):\n",
    "    \n",
    "    X_input = Input(input_shape)\n",
    "    \n",
    "    X = Conv2D(filters = 16 , kernel_size = [6,6], strides=(1, 1), padding='valid',name = 'conv1')(X_input)\n",
    "    X = BatchNormalization(axis=3,name = 'batch1')(X)\n",
    "    X = Activation('relu')(X)\n",
    "    \n",
    "    X = Conv2D(filters = 32 , kernel_size = [8,8], strides=(1, 1), padding='valid',name = 'conv2')(X)\n",
    "    X = BatchNormalization(axis=3, name = 'batch2')(X)\n",
    "    X = Activation('relu')(X)\n",
    "    \n",
    "    X = Conv2D(filters = 64 , kernel_size = [6,6], strides=(1, 1), padding='valid',name = 'conv3')(X)\n",
    "    X = BatchNormalization(axis=3, name = 'batch3')(X)\n",
    "    X = Activation('relu')(X)\n",
    "    \n",
    "    X = Conv2D(filters = 128 , kernel_size = [6,6], strides=(1, 1), padding='valid',name = 'conv4')(X)\n",
    "    X = BatchNormalization(axis=3, name = 'batch4')(X)\n",
    "    X = Activation('relu')(X)\n",
    "    \n",
    "    \n",
    "    X = MaxPooling2D((2, 2), name='max_pool')(X)\n",
    "    X = Flatten()(X)\n",
    "    \n",
    "    X = Dense(7, activation='softmax',name = 'actv')(X)\n",
    "    print(X)\n",
    "    model = Model(inputs = X_input,outputs = X,name = 'EmotionModel')\n",
    "    \n",
    "    \n",
    "    return model"
   ]
  },
  {
   "cell_type": "code",
   "execution_count": 18,
   "metadata": {},
   "outputs": [
    {
     "name": "stdout",
     "output_type": "stream",
     "text": [
      "Tensor(\"actv_1/Softmax:0\", shape=(?, 7), dtype=float32)\n"
     ]
    }
   ],
   "source": [
    "emotionModel = EmotionModel(input_shape=(48,48,1))"
   ]
  },
  {
   "cell_type": "code",
   "execution_count": 19,
   "metadata": {},
   "outputs": [],
   "source": [
    "emotionModel.compile(optimizer = 'adam', loss='mean_squared_error', metrics=['accuracy'])"
   ]
  },
  {
   "cell_type": "code",
   "execution_count": 20,
   "metadata": {},
   "outputs": [
    {
     "name": "stdout",
     "output_type": "stream",
     "text": [
      "Epoch 1/20\n",
      "3678/3678 [==============================] - 581s 158ms/step - loss: 0.1656 - acc: 0.3187\n",
      "Epoch 2/20\n",
      "3678/3678 [==============================] - 570s 155ms/step - loss: 0.1271 - acc: 0.4304\n",
      "Epoch 3/20\n",
      "3678/3678 [==============================] - 632s 172ms/step - loss: 0.1056 - acc: 0.5324\n",
      "Epoch 4/20\n",
      "3678/3678 [==============================] - 553s 150ms/step - loss: 0.0929 - acc: 0.5935\n",
      "Epoch 5/20\n",
      "3678/3678 [==============================] - 620s 169ms/step - loss: 0.0976 - acc: 0.5775\n",
      "Epoch 6/20\n",
      "3678/3678 [==============================] - 615s 167ms/step - loss: 0.0880 - acc: 0.6188\n",
      "Epoch 7/20\n",
      "3678/3678 [==============================] - 559s 152ms/step - loss: 0.0831 - acc: 0.6430\n",
      "Epoch 8/20\n",
      "3678/3678 [==============================] - 572s 155ms/step - loss: 0.0802 - acc: 0.6566\n",
      "Epoch 9/20\n",
      "3678/3678 [==============================] - 638s 173ms/step - loss: 0.0729 - acc: 0.6887\n",
      "Epoch 10/20\n",
      "3678/3678 [==============================] - 575s 156ms/step - loss: 0.0694 - acc: 0.7080\n",
      "Epoch 11/20\n",
      "3678/3678 [==============================] - 551s 150ms/step - loss: 0.0692 - acc: 0.7045\n",
      "Epoch 12/20\n",
      "3678/3678 [==============================] - 548s 149ms/step - loss: 0.0707 - acc: 0.7107\n",
      "Epoch 13/20\n",
      "3678/3678 [==============================] - 545s 148ms/step - loss: 0.0681 - acc: 0.7232\n",
      "Epoch 14/20\n",
      "3678/3678 [==============================] - 497s 135ms/step - loss: 0.0652 - acc: 0.7303\n",
      "Epoch 15/20\n",
      "3678/3678 [==============================] - 493s 134ms/step - loss: 0.0630 - acc: 0.7401\n",
      "Epoch 16/20\n",
      "3678/3678 [==============================] - 490s 133ms/step - loss: 0.0630 - acc: 0.7425\n",
      "Epoch 17/20\n",
      "3678/3678 [==============================] - 301s 82ms/step - loss: 0.0624 - acc: 0.7439\n",
      "Epoch 18/20\n",
      "3678/3678 [==============================] - 269s 73ms/step - loss: 0.0514 - acc: 0.7776\n",
      "Epoch 19/20\n",
      "3678/3678 [==============================] - 268s 73ms/step - loss: 0.0466 - acc: 0.7966\n",
      "Epoch 20/20\n",
      "3678/3678 [==============================] - 267s 73ms/step - loss: 0.0372 - acc: 0.8249\n"
     ]
    },
    {
     "data": {
      "text/plain": [
       "<keras.callbacks.History at 0x1da03fcccf8>"
      ]
     },
     "execution_count": 20,
     "metadata": {},
     "output_type": "execute_result"
    }
   ],
   "source": [
    "emotionModel.fit(X_train, Y_train,epochs=20, batch_size=32)"
   ]
  },
  {
   "cell_type": "code",
   "execution_count": 22,
   "metadata": {},
   "outputs": [],
   "source": [
    "X_test = X_test.reshape(X_test.shape[0],48,48,1)"
   ]
  },
  {
   "cell_type": "code",
   "execution_count": 94,
   "metadata": {},
   "outputs": [],
   "source": [
    "X_test = X_test/255."
   ]
  },
  {
   "cell_type": "code",
   "execution_count": 95,
   "metadata": {},
   "outputs": [
    {
     "name": "stdout",
     "output_type": "stream",
     "text": [
      "Loss = [1.4529396e-06 1.3389008e-05 9.9997950e-01 8.5522975e-09 3.0517691e-07\n",
      " 7.6937835e-07 4.5105003e-06]\n",
      "Test Accuracy = [4.5296680e-03 1.8823349e-01 1.1712290e-08 2.9393943e-04 9.7951889e-02\n",
      " 6.2521821e-01 8.3772704e-02]\n"
     ]
    }
   ],
   "source": [
    "preds = emotionModel.predict(X_test, batch_size=16)\n",
    "print (\"Loss = \" + str(preds[0]))\n",
    "print (\"Test Accuracy = \" + str(preds[1]))\n"
   ]
  },
  {
   "cell_type": "code",
   "execution_count": 28,
   "metadata": {},
   "outputs": [
    {
     "data": {
      "text/plain": [
       "<tf.Tensor 'Mean:0' shape=(500,) dtype=float64>"
      ]
     },
     "execution_count": 28,
     "metadata": {},
     "output_type": "execute_result"
    }
   ],
   "source": [
    "from keras import losses\n",
    "losses.mean_squared_error(preds, Y_test)"
   ]
  },
  {
   "cell_type": "code",
   "execution_count": 125,
   "metadata": {},
   "outputs": [
    {
     "name": "stdout",
     "output_type": "stream",
     "text": [
      "neutral\n"
     ]
    },
    {
     "data": {
      "text/plain": [
       "<matplotlib.image.AxesImage at 0x1da0d5eb8d0>"
      ]
     },
     "execution_count": 125,
     "metadata": {},
     "output_type": "execute_result"
    },
    {
     "data": {
      "image/png": "[encoded data removed]",
      "text/plain": [
       "<Figure size 432x288 with 1 Axes>"
      ]
     },
     "metadata": {
      "needs_background": "light"
     },
     "output_type": "display_data"
    }
   ],
   "source": [
    "\n",
    "x_t = X_test[-19]\n",
    "x_k = x_t.reshape(1,48,48,1)\n",
    "x_p = x_t.reshape(48,48)\n",
    "\n",
    "preds = emotionModel.predict(x_k, batch_size=16)\n",
    "\n",
    "dict1 = {0:\"anger\", 1:\"disgust\", 2:\"fear\", 3:\"happy\", 4:\"sad\", 5:\"surprise\", 6:\"neutral\"}\n",
    "if(np.argmax(preds)==6):\n",
    "    print(dict1[0])\n",
    "else:\n",
    "    print(dict1[np.argmax(preds)+1])\n",
    "\n",
    "plt.imshow(x_p,cmap='gray')"
   ]
  },
  {
   "cell_type": "code",
   "execution_count": 197,
   "metadata": {},
   "outputs": [
    {
     "name": "stdout",
     "output_type": "stream",
     "text": [
      "Emotion Detected:    fear\n"
     ]
    },
    {
     "data": {
      "image/png": "[encoded data removed]",
      "text/plain": [
       "<Figure size 432x288 with 1 Axes>"
      ]
     },
     "metadata": {
      "needs_background": "light"
     },
     "output_type": "display_data"
    }
   ],
   "source": [
    "from PIL import Image\n",
    "import numpy as np\n",
    "import matplotlib.pyplot as plt\n",
    "I = Image.open('C:\\\\Users\\\\admin\\\\Documents\\\\Images\\\\simg2.jpeg').convert('L')\n",
    "I = I.resize((48,48), Image.ANTIALIAS)\n",
    "K = I\n",
    "plt.imshow(I,cmap = 'gray')\n",
    "I = np.array(I)\n",
    "I = I.reshape(1,I.shape[0],I.shape[1],1)\n",
    "I = I/255.\n",
    "preds = emotionModel.predict(I, batch_size=16)\n",
    "#print(preds)\n",
    "plt.imshow(K,cmap = 'gray')\n",
    "if(np.argmax(preds)==6):\n",
    "    print(dict1[0])\n",
    "else:\n",
    "    print(\"Emotion Detected:   \",dict1[np.argmax(preds)+1])\n"
   ]
  },
  {
   "cell_type": "code",
   "execution_count": 198,
   "metadata": {},
   "outputs": [
    {
     "name": "stdout",
     "output_type": "stream",
     "text": [
      "Emotion Detected:    happy\n"
     ]
    },
    {
     "data": {
      "image/png": "[encoded data removed]",
      "text/plain": [
       "<Figure size 432x288 with 1 Axes>"
      ]
     },
     "metadata": {
      "needs_background": "light"
     },
     "output_type": "display_data"
    }
   ],
   "source": [
    "from PIL import Image\n",
    "import numpy as np\n",
    "import matplotlib.pyplot as plt\n",
    "I = Image.open('C:\\\\Users\\\\admin\\\\Documents\\\\Images\\\\simg1.jpeg').convert('L')\n",
    "I = I.resize((48,48), Image.ANTIALIAS)\n",
    "K = I\n",
    "plt.imshow(I,cmap = 'gray')\n",
    "I = np.array(I)\n",
    "I = I.reshape(1,I.shape[0],I.shape[1],1)\n",
    "I = I/255.\n",
    "preds = emotionModel.predict(I, batch_size=16)\n",
    "plt.imshow(K,cmap = 'gray')\n",
    "if(np.argmax(preds)==6):\n",
    "    print(dict1[0])\n",
    "else:\n",
    "    print(\"Emotion Detected:   \",dict1[np.argmax(preds)+1])"
   ]
  },
  {
   "cell_type": "code",
   "execution_count": 199,
   "metadata": {},
   "outputs": [
    {
     "name": "stdout",
     "output_type": "stream",
     "text": [
      "anger\n"
     ]
    },
    {
     "data": {
      "image/png": "[encoded data removed]",
      "text/plain": [
       "<Figure size 432x288 with 1 Axes>"
      ]
     },
     "metadata": {
      "needs_background": "light"
     },
     "output_type": "display_data"
    }
   ],
   "source": [
    "from PIL import Image\n",
    "import numpy as np\n",
    "import matplotlib.pyplot as plt\n",
    "I = Image.open('C:\\\\Users\\\\admin\\\\Documents\\\\Images\\\\img6.jpeg').convert('L')\n",
    "I = I.resize((48,48), Image.ANTIALIAS)\n",
    "K = I\n",
    "plt.imshow(I,cmap = 'gray')\n",
    "I = np.array(I)\n",
    "I = I.reshape(1,I.shape[0],I.shape[1],1)\n",
    "I = I/255.\n",
    "preds = emotionModel.predict(I, batch_size=16)\n",
    "plt.imshow(K,cmap = 'gray')\n",
    "if(np.argmax(preds)==6):\n",
    "    print(dict1[0])\n",
    "else:\n",
    "    print(\"Emotion Detected:   \",dict1[np.argmax(preds)+1])"
   ]
  },
  {
   "cell_type": "code",
   "execution_count": 185,
   "metadata": {},
   "outputs": [
    {
     "name": "stdout",
     "output_type": "stream",
     "text": [
      "_________________________________________________________________\n",
      "Layer (type)                 Output Shape              Param #   \n",
      "=================================================================\n",
      "input_2 (InputLayer)         (None, 48, 48, 1)         0         \n",
      "_________________________________________________________________\n",
      "conv1 (Conv2D)               (None, 43, 43, 16)        592       \n",
      "_________________________________________________________________\n",
      "batch1 (BatchNormalization)  (None, 43, 43, 16)        64        \n",
      "_________________________________________________________________\n",
      "activation_5 (Activation)    (None, 43, 43, 16)        0         \n",
      "_________________________________________________________________\n",
      "conv2 (Conv2D)               (None, 36, 36, 32)        32800     \n",
      "_________________________________________________________________\n",
      "batch2 (BatchNormalization)  (None, 36, 36, 32)        128       \n",
      "_________________________________________________________________\n",
      "activation_6 (Activation)    (None, 36, 36, 32)        0         \n",
      "_________________________________________________________________\n",
      "conv3 (Conv2D)               (None, 31, 31, 64)        73792     \n",
      "_________________________________________________________________\n",
      "batch3 (BatchNormalization)  (None, 31, 31, 64)        256       \n",
      "_________________________________________________________________\n",
      "activation_7 (Activation)    (None, 31, 31, 64)        0         \n",
      "_________________________________________________________________\n",
      "conv4 (Conv2D)               (None, 26, 26, 128)       295040    \n",
      "_________________________________________________________________\n",
      "batch4 (BatchNormalization)  (None, 26, 26, 128)       512       \n",
      "_________________________________________________________________\n",
      "activation_8 (Activation)    (None, 26, 26, 128)       0         \n",
      "_________________________________________________________________\n",
      "max_pool (MaxPooling2D)      (None, 13, 13, 128)       0         \n",
      "_________________________________________________________________\n",
      "flatten_2 (Flatten)          (None, 21632)             0         \n",
      "_________________________________________________________________\n",
      "actv (Dense)                 (None, 7)                 151431    \n",
      "=================================================================\n",
      "Total params: 554,615\n",
      "Trainable params: 554,135\n",
      "Non-trainable params: 480\n",
      "_________________________________________________________________\n"
     ]
    }
   ],
   "source": [
    "emotionModel.summary()"
   ]
  },
  {
   "cell_type": "code",
   "execution_count": 193,
   "metadata": {},
   "outputs": [
    {
     "name": "stdout",
     "output_type": "stream",
     "text": [
      "500/500 [==============================] - 14s 28ms/step\n",
      "Loss: 0.06083464923501015 Test Accuracy: 0.72\n"
     ]
    }
   ],
   "source": [
    "score, acc = emotionModel.evaluate(X_test, Y_test,\n",
    "                            batch_size=16)\n",
    "print(\"Loss:\",score,\"Test Accuracy:\",acc)"
   ]
  },
  {
   "cell_type": "markdown",
   "metadata": {},
   "source": [
    "Algorithm achieved 82% accuracy over Train Accuracy and 72% accuracy over Test Data."
   ]
  },
  {
   "cell_type": "code",
   "execution_count": null,
   "metadata": {},
   "outputs": [],
   "source": []
  },
  {
   "cell_type": "code",
   "execution_count": null,
   "metadata": {},
   "outputs": [],
   "source": []
  }
 ],
 "metadata": {
  "kernelspec": {
   "display_name": "Python 3",
   "language": "python",
   "name": "python3"
  },
  "language_info": {
   "codemirror_mode": {
    "name": "ipython",
    "version": 3
   },
   "file_extension": ".py",
   "mimetype": "text/x-python",
   "name": "python",
   "nbconvert_exporter": "python",
   "pygments_lexer": "ipython3",
   "version": "3.6.6"
  }
 },
 "nbformat": 4,
 "nbformat_minor": 2
}
