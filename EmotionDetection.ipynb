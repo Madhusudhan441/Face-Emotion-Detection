{
 "cells": [
  {
   "cell_type": "code",
   "execution_count": 3,
   "metadata": {},
   "outputs": [
    {
     "name": "stderr",
     "output_type": "stream",
     "text": [
      "C:\\Users\\admin\\Anaconda3\\envs\\keras1\\lib\\site-packages\\h5py\\__init__.py:72: UserWarning: h5py is running against HDF5 1.10.2 when it was built against 1.10.3, this may cause problems\n",
      "  '{0}.{1}.{2}'.format(*version.hdf5_built_version_tuple)\n",
      "Using TensorFlow backend.\n"
     ]
    }
   ],
   "source": [
    "import pandas as pd\n",
    "import numpy as np\n",
    "import matplotlib.pyplot as plt\n",
    "from keras.layers import Input, Dense, Activation, ZeroPadding2D, BatchNormalization, Flatten, Conv2D\n",
    "from keras.layers import AveragePooling2D, MaxPooling2D, Dropout, GlobalMaxPooling2D, GlobalAveragePooling2D\n",
    "from keras import backend as K\n",
    "from keras.models import Model\n",
    "from keras.preprocessing import image\n",
    "#from kt_utils import *"
   ]
  },
  {
   "cell_type": "code",
   "execution_count": 4,
   "metadata": {},
   "outputs": [
    {
     "data": {
      "text/html": [
       "<div>\n",
       "<style scoped>\n",
       "    .dataframe tbody tr th:only-of-type {\n",
       "        vertical-align: middle;\n",
       "    }\n",
       "\n",
       "    .dataframe tbody tr th {\n",
       "        vertical-align: top;\n",
       "    }\n",
       "\n",
       "    .dataframe thead th {\n",
       "        text-align: right;\n",
       "    }\n",
       "</style>\n",
       "<table border=\"1\" class=\"dataframe\">\n",
       "  <thead>\n",
       "    <tr style=\"text-align: right;\">\n",
       "      <th></th>\n",
       "      <th>Emotion</th>\n",
       "      <th>Pixels</th>\n",
       "    </tr>\n",
       "  </thead>\n",
       "  <tbody>\n",
       "    <tr>\n",
       "      <th>0</th>\n",
       "      <td>3</td>\n",
       "      <td>221 240 251 254 255 255 255 255 255 255 255 25...</td>\n",
       "    </tr>\n",
       "    <tr>\n",
       "      <th>1</th>\n",
       "      <td>6</td>\n",
       "      <td>100 107 108 104 103 113 117 115 120 130 138 14...</td>\n",
       "    </tr>\n",
       "    <tr>\n",
       "      <th>2</th>\n",
       "      <td>4</td>\n",
       "      <td>35 50 56 57 63 76 74 79 85 86 105 133 145 152 ...</td>\n",
       "    </tr>\n",
       "    <tr>\n",
       "      <th>3</th>\n",
       "      <td>6</td>\n",
       "      <td>119 124 129 135 136 140 142 149 159 156 163 16...</td>\n",
       "    </tr>\n",
       "    <tr>\n",
       "      <th>4</th>\n",
       "      <td>2</td>\n",
       "      <td>160 173 186 194 188 185 175 162 153 143 135 12...</td>\n",
       "    </tr>\n",
       "  </tbody>\n",
       "</table>\n",
       "</div>"
      ],
      "text/plain": [
       "   Emotion                                             Pixels\n",
       "0        3  221 240 251 254 255 255 255 255 255 255 255 25...\n",
       "1        6  100 107 108 104 103 113 117 115 120 130 138 14...\n",
       "2        4  35 50 56 57 63 76 74 79 85 86 105 133 145 152 ...\n",
       "3        6  119 124 129 135 136 140 142 149 159 156 163 16...\n",
       "4        2  160 173 186 194 188 185 175 162 153 143 135 12..."
      ]
     },
     "execution_count": 4,
     "metadata": {},
     "output_type": "execute_result"
    }
   ],
   "source": [
    "data_ip = pd.read_csv(\"C:\\\\Users\\\\admin\\\\Documents\\\\Face_expressions\\\\train.csv\")\n",
    "data_ip.head()"
   ]
  },
  {
   "cell_type": "code",
   "execution_count": 5,
   "metadata": {},
   "outputs": [],
   "source": [
    "X = data_ip['Pixels']\n",
    "Y = data_ip['Emotion']\n",
    "X = X.str.split(' ')"
   ]
  },
  {
   "cell_type": "code",
   "execution_count": 6,
   "metadata": {},
   "outputs": [
    {
     "data": {
      "text/plain": [
       "(4178, 2304)"
      ]
     },
     "execution_count": 6,
     "metadata": {},
     "output_type": "execute_result"
    }
   ],
   "source": [
    "X = np.array(X)\n",
    "X = [list(map(int, i)) for i in X]\n",
    "X = [np.array(i) for i in X]\n",
    "X = np.array(X)\n",
    "X.shape"
   ]
  },
  {
   "cell_type": "code",
   "execution_count": 7,
   "metadata": {},
   "outputs": [],
   "source": [
    "X = X.reshape(X.shape[0],48,48)"
   ]
  },
  {
   "cell_type": "code",
   "execution_count": 9,
   "metadata": {},
   "outputs": [],
   "source": [
    "X_train = X[:-500,:,:]\n",
    "X_test = X[-500:,:,:]\n",
    "\n",
    "X_train.shape,X_test.shape\n",
    "X_train = X_train/255."
   ]
  },
  {
   "cell_type": "code",
   "execution_count": 10,
   "metadata": {},
   "outputs": [
    {
     "data": {
      "text/plain": [
       "<matplotlib.image.AxesImage at 0x1da14f58ef0>"
      ]
     },
     "execution_count": 10,
     "metadata": {},
     "output_type": "execute_result"
    },
    {
     "data": {
      "image/png": "[encoded data removed]",
      "text/plain": [
       "<Figure size 432x288 with 1 Axes>"
      ]
     },
     "metadata": {
      "needs_background": "light"
     },
     "output_type": "display_data"
    }
   ],
   "source": [
    "plt.imshow(X_train[1],cmap='gray')"
   ]
  },
  {
   "cell_type": "code",
   "execution_count": 11,
   "metadata": {},
   "outputs": [
    {
     "data": {
      "text/plain": [
       "array([[0, 0, 1, ..., 0, 0, 0],\n",
       "       [0, 0, 0, ..., 0, 1, 0],\n",
       "       [0, 0, 0, ..., 0, 0, 0],\n",
       "       ...,\n",
       "       [0, 0, 0, ..., 1, 0, 0],\n",
       "       [0, 0, 1, ..., 0, 0, 0],\n",
       "       [0, 0, 0, ..., 0, 1, 0]])"
      ]
     },
     "execution_count": 11,
     "metadata": {},
     "output_type": "execute_result"
    }
   ],
   "source": [
    "P = []\n",
    "Y = data_ip['Emotion']\n",
    "for i in range(0,len(Y)):\n",
    "    Y_op = [0]*7\n",
    "    #print(Y[i])\n",
    "    Y_op[Y[i]-1] = 1\n",
    "    P.append(Y_op)\n",
    "P = np.array(P)\n",
    "Y_train = P[:-500]\n",
    "Y_test = P[-500:]\n",
    "'''Y = np.array(data_ip['Emotion'])\n",
    "Y_train = Y[:-500]\n",
    "Y_test = Y[-500:]'''\n",
    "Y_train"
   ]
  },
  {
   "cell_type": "code",
   "execution_count": 12,
   "metadata": {},
   "outputs": [],
   "source": [
    "X_train = X_train.reshape(X_train.shape[0],48,48,1)"
   ]
  },
  {
   "cell_type": "code",
   "execution_count": 17,
   "metadata": {},
   "outputs": [],
   "source": [
    "def EmotionModel(input_shape):\n",
    "    \n",
    "    X_input = Input(input_shape)\n",
    "    \n",
    "    X = Conv2D(filters = 16 , kernel_size = [6,6], strides=(1, 1), padding='valid',name = 'conv1')(X_input)\n",
    "    X = BatchNormalization(axis=3,name = 'batch1')(X)\n",
    "    X = Activation('relu')(X)\n",
    "    \n",
    "    X = Conv2D(filters = 32 , kernel_size = [8,8], strides=(1, 1), padding='valid',name = 'conv2')(X)\n",
    "    X = BatchNormalization(axis=3, name = 'batch2')(X)\n",
    "    X = Activation('relu')(X)\n",
    "    \n",
    "    X = Conv2D(filters = 64 , kernel_size = [6,6], strides=(1, 1), padding='valid',name = 'conv3')(X)\n",
    "    X = BatchNormalization(axis=3, name = 'batch3')(X)\n",
    "    X = Activation('relu')(X)\n",
    "    \n",
    "    X = Conv2D(filters = 128 , kernel_size = [6,6], strides=(1, 1), padding='valid',name = 'conv4')(X)\n",
    "    X = BatchNormalization(axis=3, name = 'batch4')(X)\n",
    "    X = Activation('relu')(X)\n",
    "    \n",
    "    \n",
    "    X = MaxPooling2D((2, 2), name='max_pool')(X)\n",
    "    X = Flatten()(X)\n",
    "    \n",
    "    X = Dense(7, activation='softmax',name = 'actv')(X)\n",
    "    print(X)\n",
    "    model = Model(inputs = X_input,outputs = X,name = 'EmotionModel')\n",
    "    \n",
    "    \n",
    "    return model"
   ]
  },
  {
   "cell_type": "code",
   "execution_count": 18,
   "metadata": {},
   "outputs": [
    {
     "name": "stdout",
     "output_type": "stream",
     "text": [
      "Tensor(\"actv_1/Softmax:0\", shape=(?, 7), dtype=float32)\n"
     ]
    }
   ],
   "source": [
    "emotionModel = EmotionModel(input_shape=(48,48,1))"
   ]
  },
  {
   "cell_type": "code",
   "execution_count": 19,
   "metadata": {},
   "outputs": [],
   "source": [
    "emotionModel.compile(optimizer = 'adam', loss='mean_squared_error', metrics=['accuracy'])"
   ]
  },
  {
   "cell_type": "code",
   "execution_count": 20,
   "metadata": {},
   "outputs": [
    {
     "name": "stdout",
     "output_type": "stream",
     "text": [
      "Epoch 1/20\n",
      "3678/3678 [==============================] - 581s 158ms/step - loss: 0.1656 - acc: 0.3187\n",
      "Epoch 2/20\n",
      "3678/3678 [==============================] - 570s 155ms/step - loss: 0.1271 - acc: 0.4304\n",
      "Epoch 3/20\n",
      "3678/3678 [==============================] - 632s 172ms/step - loss: 0.1056 - acc: 0.5324\n",
      "Epoch 4/20\n",
      "3678/3678 [==============================] - 553s 150ms/step - loss: 0.0929 - acc: 0.5935\n",
      "Epoch 5/20\n",
      "3678/3678 [==============================] - 620s 169ms/step - loss: 0.0976 - acc: 0.5775\n",
      "Epoch 6/20\n",
      "3678/3678 [==============================] - 615s 167ms/step - loss: 0.0880 - acc: 0.6188\n",
      "Epoch 7/20\n",
      "3678/3678 [==============================] - 559s 152ms/step - loss: 0.0831 - acc: 0.6430\n",
      "Epoch 8/20\n",
      "3678/3678 [==============================] - 572s 155ms/step - loss: 0.0802 - acc: 0.6566\n",
      "Epoch 9/20\n",
      "3678/3678 [==============================] - 638s 173ms/step - loss: 0.0729 - acc: 0.6887\n",
      "Epoch 10/20\n",
      "3678/3678 [==============================] - 575s 156ms/step - loss: 0.0694 - acc: 0.7080\n",
      "Epoch 11/20\n",
      "3678/3678 [==============================] - 551s 150ms/step - loss: 0.0692 - acc: 0.7045\n",
      "Epoch 12/20\n",
      "3678/3678 [==============================] - 548s 149ms/step - loss: 0.0707 - acc: 0.7107\n",
      "Epoch 13/20\n",
      "3678/3678 [==============================] - 545s 148ms/step - loss: 0.0681 - acc: 0.7232\n",
      "Epoch 14/20\n",
      "3678/3678 [==============================] - 497s 135ms/step - loss: 0.0652 - acc: 0.7303\n",
      "Epoch 15/20\n",
      "3678/3678 [==============================] - 493s 134ms/step - loss: 0.0630 - acc: 0.7401\n",
      "Epoch 16/20\n",
      "3678/3678 [==============================] - 490s 133ms/step - loss: 0.0630 - acc: 0.7425\n",
      "Epoch 17/20\n",
      "3678/3678 [==============================] - 301s 82ms/step - loss: 0.0624 - acc: 0.7439\n",
      "Epoch 18/20\n",
      "3678/3678 [==============================] - 269s 73ms/step - loss: 0.0514 - acc: 0.7776\n",
      "Epoch 19/20\n",
      "3678/3678 [==============================] - 268s 73ms/step - loss: 0.0466 - acc: 0.7966\n",
      "Epoch 20/20\n",
      "3678/3678 [==============================] - 267s 73ms/step - loss: 0.0372 - acc: 0.8249\n"
     ]
    },
    {
     "data": {
      "text/plain": [
       "<keras.callbacks.History at 0x1da03fcccf8>"
      ]
     },
     "execution_count": 20,
     "metadata": {},
     "output_type": "execute_result"
    }
   ],
   "source": [
    "emotionModel.fit(X_train, Y_train,epochs=20, batch_size=32)"
   ]
  },
  {
   "cell_type": "code",
   "execution_count": null,
   "metadata": {},
   "outputs": [],
   "source": []
  }
 ],
 "metadata": {
  "kernelspec": {
   "display_name": "Python 3",
   "language": "python",
   "name": "python3"
  },
  "language_info": {
   "codemirror_mode": {
    "name": "ipython",
    "version": 3
   },
   "file_extension": ".py",
   "mimetype": "text/x-python",
   "name": "python",
   "nbconvert_exporter": "python",
   "pygments_lexer": "ipython3",
   "version": "3.6.6"
  }
 },
 "nbformat": 4,
 "nbformat_minor": 2
}
